{
 "cells": [
  {
   "cell_type": "markdown",
   "metadata": {},
   "source": [
    "# DiSSECT Playground"
   ]
  },
  {
   "cell_type": "code",
   "execution_count": null,
   "metadata": {},
   "outputs": [],
   "source": [
    "# Import dependencies\n",
    "from dissect.analysis.data_processing import get_curves, get_trait, find_outliers\n",
    "import plotly.express as px\n",
    "import pandas as pd"
   ]
  },
  {
   "cell_type": "code",
   "execution_count": null,
   "metadata": {},
   "outputs": [],
   "source": [
    "# Define your data source or use the default\n",
    "SOURCE = 'https://dissect.crocs.fi.muni.cz/'"
   ]
  },
  {
   "cell_type": "code",
   "execution_count": null,
   "metadata": {},
   "outputs": [],
   "source": [
    "TRAIT = \"a05\"  # Select trait\n",
    "# Define filtering query\n",
    "QUERY = {\n",
    "    # Curve filters\n",
    "    \"bits\": 256,\n",
    "    \"cofactor\": 1,\n",
    "    \"category\": [\"secg\", \"random\"],\n",
    "    # Trait params\n",
    "    \"l\": [2, 3, 5]\n",
    "}"
   ]
  },
  {
   "cell_type": "code",
   "execution_count": null,
   "metadata": {},
   "outputs": [],
   "source": [
    "# Load curves\n",
    "curves = get_curves(SOURCE, QUERY)\n",
    "curves"
   ]
  },
  {
   "cell_type": "code",
   "execution_count": null,
   "metadata": {},
   "outputs": [],
   "source": [
    "# Load trait results\n",
    "trait = get_trait(SOURCE, TRAIT, QUERY)\n",
    "trait"
   ]
  },
  {
   "cell_type": "markdown",
   "metadata": {},
   "source": [
    "## Visualization"
   ]
  },
  {
   "cell_type": "code",
   "execution_count": null,
   "metadata": {},
   "outputs": [],
   "source": [
    "FEATURE = \"full\"  # Select feature for inspection\n",
    "PARAM = \"l\"       # Select parameter for inspection"
   ]
  },
  {
   "cell_type": "code",
   "execution_count": null,
   "metadata": {},
   "outputs": [],
   "source": [
    "# Normalized count\n",
    "\n",
    "for param_value in set(trait[PARAM]):\n",
    "    px.histogram(\n",
    "        trait[trait[PARAM] == param_value],\n",
    "        x=FEATURE,\n",
    "        color=\"standard\",\n",
    "        histfunc=\"count\",\n",
    "        histnorm=\"percent\",\n",
    "        barmode=\"group\",\n",
    "        title=f\"Normalized count {TRAIT}['{FEATURE}']: {PARAM}={param_value}\"\n",
    "    ).show()"
   ]
  },
  {
   "cell_type": "code",
   "execution_count": null,
   "metadata": {},
   "outputs": [],
   "source": [
    "# Normalized bubbles\n",
    "\n",
    "FEATURE_X = \"least\"\n",
    "FEATURE_Y = \"full\"\n",
    "\n",
    "for param_value in set(trait[PARAM]):\n",
    "    value_counts = trait[trait[PARAM] == param_value][[FEATURE_X, FEATURE_Y, \"standard\"]].value_counts().to_frame(\"counts\")\n",
    "    value_counts.reset_index(level=(0, 1, 2), inplace=True)\n",
    "    std = value_counts[\"standard\"]\n",
    "    value_counts.loc[std, \"counts\"] /= sum(value_counts.loc[std, \"counts\"])\n",
    "    value_counts.loc[~std, \"counts\"] /= sum(value_counts.loc[~std, \"counts\"])\n",
    "    px.scatter(\n",
    "        value_counts,\n",
    "        x=FEATURE_X,\n",
    "        y=FEATURE_Y,\n",
    "        size=\"counts\",\n",
    "        color=\"standard\",\n",
    "        title=f\"Normalized bubbles {TRAIT}['{FEATURE_X}','{FEATURE_Y}']: {PARAM}={param_value}\"\n",
    "    ).show()"
   ]
  },
  {
   "cell_type": "code",
   "execution_count": null,
   "metadata": {},
   "outputs": [],
   "source": [
    "for param_value in set(trait[PARAM]):\n",
    "    px.violin(trait[trait[PARAM] == param_value], y=FEATURE).show()"
   ]
  },
  {
   "cell_type": "code",
   "execution_count": null,
   "metadata": {},
   "outputs": [],
   "source": [
    "find_outliers(trait, [\"least\", \"full\"])"
   ]
  },
  {
   "cell_type": "code",
   "execution_count": null,
   "metadata": {},
   "outputs": [],
   "source": []
  }
 ],
 "metadata": {
  "kernelspec": {
   "display_name": "Python 3",
   "language": "python",
   "name": "python3"
  },
  "language_info": {
   "codemirror_mode": {
    "name": "ipython",
    "version": 3
   },
   "file_extension": ".py",
   "mimetype": "text/x-python",
   "name": "python",
   "nbconvert_exporter": "python",
   "pygments_lexer": "ipython3",
   "version": "3.9.5"
  }
 },
 "nbformat": 4,
 "nbformat_minor": 5
}
